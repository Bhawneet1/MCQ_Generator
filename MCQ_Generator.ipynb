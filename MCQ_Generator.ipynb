{
  "nbformat": 4,
  "nbformat_minor": 0,
  "metadata": {
    "colab": {
      "provenance": [],
      "authorship_tag": "ABX9TyPYTtOUGqNMKla7IoQIjSzB",
      "include_colab_link": true
    },
    "kernelspec": {
      "name": "python3",
      "display_name": "Python 3"
    },
    "language_info": {
      "name": "python"
    }
  },
  "cells": [
    {
      "cell_type": "markdown",
      "metadata": {
        "id": "view-in-github",
        "colab_type": "text"
      },
      "source": [
        "<a href=\"https://colab.research.google.com/github/Bhawneet1/MCQ_Generator/blob/main/MCQ_Generator.ipynb\" target=\"_parent\"><img src=\"https://colab.research.google.com/assets/colab-badge.svg\" alt=\"Open In Colab\"/></a>"
      ]
    },
    {
      "cell_type": "code",
      "execution_count": 1,
      "metadata": {
        "id": "5jqOwWS_uEfx"
      },
      "outputs": [],
      "source": [
        "\n",
        "import spacy\n",
        "import random\n",
        "from collections import Counter"
      ]
    },
    {
      "cell_type": "code",
      "source": [
        "text = \"\"\"\n",
        "The Greek historian knew what he was talking about. The Nile River fed Egyptian civilization for hundreds of years.\n",
        "The Longest River the Nile is 4,160 miles long—the world’s longest river. It begins near the equator in Africa and\n",
        "flows north to the Mediterranean Sea. In the south the Nile churns with cataracts. A cataract is a waterfall. Near the\n",
        "sea the Nile branches into a delta. A delta is an area near a river’s mouth where the water deposits fine soil called silt.\n",
        "In the delta, the Nile divides into many streams. The river is called the upper Nile in the south and the lower Nile in the\n",
        "north. For centuries, heavy rains in Ethiopia caused the Nile to flood every summer. The floods deposited rich soil along the\n",
        "Nile’s shores. This soil was fertile, which means it was good for growing crops. Unlike the Tigris and Euphrates,\n",
        "the Nile River flooded at the same time every year, so farmers could predict when to plant their crops.\n",
        "\"\"\"\n",
        "\n",
        "num_questions = 5"
      ],
      "metadata": {
        "id": "pZOtGwrBu6uX"
      },
      "execution_count": 2,
      "outputs": []
    },
    {
      "cell_type": "code",
      "source": [
        "# seperate the text into sentences based on the . and then select random text based on the number of MCQs\n",
        "nlp = spacy.load('en_core_web_sm')\n",
        "# this will extract all important info"
      ],
      "metadata": {
        "id": "wT_yLmD2uLEA"
      },
      "execution_count": 3,
      "outputs": []
    },
    {
      "cell_type": "code",
      "source": [
        "text"
      ],
      "metadata": {
        "colab": {
          "base_uri": "https://localhost:8080/",
          "height": 126
        },
        "id": "gdXw9D91ubi1",
        "outputId": "b747b5e8-8a11-447a-92a6-737c81578763"
      },
      "execution_count": 4,
      "outputs": [
        {
          "output_type": "execute_result",
          "data": {
            "text/plain": [
              "'\\nThe Greek historian knew what he was talking about. The Nile River fed Egyptian civilization for hundreds of years. \\nThe Longest River the Nile is 4,160 miles long—the world’s longest river. It begins near the equator in Africa and \\nflows north to the Mediterranean Sea. In the south the Nile churns with cataracts. A cataract is a waterfall. Near the \\nsea the Nile branches into a delta. A delta is an area near a river’s mouth where the water deposits fine soil called silt. \\nIn the delta, the Nile divides into many streams. The river is called the upper Nile in the south and the lower Nile in the\\nnorth. For centuries, heavy rains in Ethiopia caused the Nile to flood every summer. The floods deposited rich soil along the \\nNile’s shores. This soil was fertile, which means it was good for growing crops. Unlike the Tigris and Euphrates,\\nthe Nile River flooded at the same time every year, so farmers could predict when to plant their crops.\\n'"
            ],
            "application/vnd.google.colaboratory.intrinsic+json": {
              "type": "string"
            }
          },
          "metadata": {},
          "execution_count": 4
        }
      ]
    },
    {
      "cell_type": "code",
      "source": [
        "doc = nlp(text)"
      ],
      "metadata": {
        "id": "qZtraBkjvAFy"
      },
      "execution_count": 5,
      "outputs": []
    },
    {
      "cell_type": "code",
      "source": [
        "doc"
      ],
      "metadata": {
        "colab": {
          "base_uri": "https://localhost:8080/"
        },
        "id": "wuc7CU58vGLD",
        "outputId": "eed46020-da3b-4e27-f46e-9af8debd4e79"
      },
      "execution_count": 6,
      "outputs": [
        {
          "output_type": "execute_result",
          "data": {
            "text/plain": [
              "\n",
              "The Greek historian knew what he was talking about. The Nile River fed Egyptian civilization for hundreds of years. \n",
              "The Longest River the Nile is 4,160 miles long—the world’s longest river. It begins near the equator in Africa and \n",
              "flows north to the Mediterranean Sea. In the south the Nile churns with cataracts. A cataract is a waterfall. Near the \n",
              "sea the Nile branches into a delta. A delta is an area near a river’s mouth where the water deposits fine soil called silt. \n",
              "In the delta, the Nile divides into many streams. The river is called the upper Nile in the south and the lower Nile in the\n",
              "north. For centuries, heavy rains in Ethiopia caused the Nile to flood every summer. The floods deposited rich soil along the \n",
              "Nile’s shores. This soil was fertile, which means it was good for growing crops. Unlike the Tigris and Euphrates,\n",
              "the Nile River flooded at the same time every year, so farmers could predict when to plant their crops."
            ]
          },
          "metadata": {},
          "execution_count": 6
        }
      ]
    },
    {
      "cell_type": "code",
      "source": [
        "len([sent for sent in doc.sents])"
      ],
      "metadata": {
        "colab": {
          "base_uri": "https://localhost:8080/"
        },
        "id": "e8XJnBvRvIcR",
        "outputId": "12fd24a6-86c0-4d3d-cf78-4f961cf9919c"
      },
      "execution_count": 7,
      "outputs": [
        {
          "output_type": "execute_result",
          "data": {
            "text/plain": [
              "14"
            ]
          },
          "metadata": {},
          "execution_count": 7
        }
      ]
    },
    {
      "cell_type": "code",
      "source": [
        "[sent for sent in doc.sents]"
      ],
      "metadata": {
        "colab": {
          "base_uri": "https://localhost:8080/"
        },
        "id": "FLpOqImivgmx",
        "outputId": "c054c7c5-8d71-416b-f075-50f0f4c3e6d3"
      },
      "execution_count": 8,
      "outputs": [
        {
          "output_type": "execute_result",
          "data": {
            "text/plain": [
              "[\n",
              " The Greek historian knew what he was talking about.,\n",
              " The Nile River fed Egyptian civilization for hundreds of years. ,\n",
              " The Longest River the Nile is 4,160 miles long—the world’s longest river.,\n",
              " It begins near the equator in Africa and \n",
              " flows north to the Mediterranean Sea.,\n",
              " In the south the Nile churns with cataracts.,\n",
              " A cataract is a waterfall.,\n",
              " Near the \n",
              " sea the Nile branches into a delta.,\n",
              " A delta is an area near a river’s mouth where the water deposits fine soil called silt. ,\n",
              " In the delta, the Nile divides into many streams.,\n",
              " The river is called the upper Nile in the south and the lower Nile in the\n",
              " north.,\n",
              " For centuries, heavy rains in Ethiopia caused the Nile to flood every summer.,\n",
              " The floods deposited rich soil along the \n",
              " Nile’s shores.,\n",
              " This soil was fertile, which means it was good for growing crops.,\n",
              " Unlike the Tigris and Euphrates,\n",
              " the Nile River flooded at the same time every year, so farmers could predict when to plant their crops.]"
            ]
          },
          "metadata": {},
          "execution_count": 8
        }
      ]
    },
    {
      "cell_type": "code",
      "source": [
        "sentences = [sent.text for sent in doc.sents]"
      ],
      "metadata": {
        "id": "crTyONEmvibY"
      },
      "execution_count": 9,
      "outputs": []
    },
    {
      "cell_type": "code",
      "source": [
        "sentences"
      ],
      "metadata": {
        "colab": {
          "base_uri": "https://localhost:8080/"
        },
        "id": "UFSQoLGYvsYu",
        "outputId": "dc07ef10-01f2-42ed-a1db-4216d35a5852"
      },
      "execution_count": 10,
      "outputs": [
        {
          "output_type": "execute_result",
          "data": {
            "text/plain": [
              "['\\nThe Greek historian knew what he was talking about.',\n",
              " 'The Nile River fed Egyptian civilization for hundreds of years. \\n',\n",
              " 'The Longest River the Nile is 4,160 miles long—the world’s longest river.',\n",
              " 'It begins near the equator in Africa and \\nflows north to the Mediterranean Sea.',\n",
              " 'In the south the Nile churns with cataracts.',\n",
              " 'A cataract is a waterfall.',\n",
              " 'Near the \\nsea the Nile branches into a delta.',\n",
              " 'A delta is an area near a river’s mouth where the water deposits fine soil called silt. \\n',\n",
              " 'In the delta, the Nile divides into many streams.',\n",
              " 'The river is called the upper Nile in the south and the lower Nile in the\\nnorth.',\n",
              " 'For centuries, heavy rains in Ethiopia caused the Nile to flood every summer.',\n",
              " 'The floods deposited rich soil along the \\nNile’s shores.',\n",
              " 'This soil was fertile, which means it was good for growing crops.',\n",
              " 'Unlike the Tigris and Euphrates,\\nthe Nile River flooded at the same time every year, so farmers could predict when to plant their crops.\\n']"
            ]
          },
          "metadata": {},
          "execution_count": 10
        }
      ]
    },
    {
      "cell_type": "code",
      "source": [
        "selected_sentences=random.sample(sentences, min(num_questions,len(sentences)))\n",
        "# if len<num_question"
      ],
      "metadata": {
        "id": "scnL0iqSvx8J"
      },
      "execution_count": 11,
      "outputs": []
    },
    {
      "cell_type": "markdown",
      "source": [
        "a word (other than a pronoun) used to identify any of a class of people, places, or things (common noun), or to name a particular one of these (proper noun)\n",
        "\n",
        "_______________________________________________________________________________\n",
        "\n",
        "Subject is a word that can be used as an adjective or a noun12. As an adjective, it means owing obedience or allegiance to someone or something, or being prone or liable to something1. As a noun, it means the person or thing that performs the action of a verb, or is joined to a description by a verb2. For example, in the sentence \"Bob threw the ball\", \"Bob\" is the subject."
      ],
      "metadata": {
        "id": "xrBNvIf62Kdo"
      }
    },
    {
      "cell_type": "code",
      "source": [
        "import spacy\n",
        "from collections import Counter\n",
        "import random\n",
        "\n",
        "# Load English tokenizer, tagger, parser, NER, and word vectors\n",
        "nlp = spacy.load(\"en_core_web_sm\")\n",
        "\n",
        "def generate_mcqs(text, num_questions=5):\n",
        "\n",
        "    if text is None:\n",
        "      return []\n",
        "    # Process the text with spaCy\n",
        "    doc = nlp(text)\n",
        "\n",
        "    # Extract sentences from the text\n",
        "    sentences = [sent.text for sent in doc.sents]\n",
        "\n",
        "    # Randomly select sentences to form questions\n",
        "    selected_sentences = random.sample(sentences, min(num_questions, len(sentences)))\n",
        "\n",
        "    # Initialize list to store generated MCQs\n",
        "    mcqs = []\n",
        "\n",
        "    # Generate MCQs for each selected sentence\n",
        "    for sentence in selected_sentences:\n",
        "        # Process the sentence with spaCy\n",
        "        sent_doc = nlp(sentence)\n",
        "\n",
        "        # Extract entities (nouns) from the sentence\n",
        "        nouns = [token.text for token in sent_doc if token.pos_ == \"NOUN\"]\n",
        "\n",
        "        # Ensure there are enough nouns to generate MCQs\n",
        "        if len(nouns) < 2:\n",
        "            continue\n",
        "\n",
        "        # Count the occurrence of each noun\n",
        "        noun_counts = Counter(nouns)\n",
        "\n",
        "        # Select the most common noun as the subject of the question\n",
        "        if noun_counts:\n",
        "            subject = noun_counts.most_common(1)[0][0]\n",
        "\n",
        "            # Generate the question stem\n",
        "            question_stem = sentence.replace(subject, \"__________\")\n",
        "\n",
        "            # Generate answer choices\n",
        "            answer_choices = [subject]\n",
        "\n",
        "            # Add some random words from the text as distractors\n",
        "            for _ in range(3):\n",
        "                distractor = random.choice(list(set(nouns) - set([subject])))\n",
        "                answer_choices.append(distractor)\n",
        "\n",
        "            # Shuffle the answer choices\n",
        "            random.shuffle(answer_choices)\n",
        "\n",
        "            # Append the generated MCQ to the list\n",
        "            correct_answer = chr(64 + answer_choices.index(subject) + 1)  # Convert index to letter\n",
        "            mcqs.append((question_stem, answer_choices, correct_answer))\n",
        "\n",
        "    return mcqs"
      ],
      "metadata": {
        "colab": {
          "base_uri": "https://localhost:8080/"
        },
        "id": "2wLPTXyDwKFW",
        "outputId": "4a494950-91f0-4a52-d960-1d014255bb6c"
      },
      "execution_count": 12,
      "outputs": [
        {
          "output_type": "stream",
          "name": "stderr",
          "text": [
            "/usr/local/lib/python3.11/dist-packages/spacy/util.py:1740: UserWarning: [W111] Jupyter notebook detected: if using `prefer_gpu()` or `require_gpu()`, include it in the same cell right before `spacy.load()` to ensure that the model is loaded on the correct device. More information: http://spacy.io/usage/v3#jupyter-notebook-gpu\n",
            "  warnings.warn(Warnings.W111)\n"
          ]
        }
      ]
    },
    {
      "cell_type": "code",
      "source": [
        "# Test the function with the provided text\n",
        "text = \"\"\"\n",
        "The Greek historian knew what he was talking about. The Nile River fed Egyptian civilization for hundreds of years. The Longest River the Nile is 4,160 miles long—the world’s longest river. It begins near the equator in Africa and flows north to the Mediterranean Sea. In the south the Nile churns with cataracts. A cataract is a waterfall. Near the sea the Nile branches into a delta. A delta is an area near a river’s mouth where the water deposits fine soil called silt. In the delta, the Nile divides into many streams. The river is called the upper Nile in the south and the lower Nile in the north. For centuries, heavy rains in Ethiopia caused the Nile to flood every summer. The floods deposited rich soil along the Nile’s shores. This soil was fertile, which means it was good for growing crops. Unlike the Tigris and Euphrates, the Nile River flooded at the same time every year, so farmers could predict when to plant their crops.\n",
        "\"\"\"\n",
        "\n",
        "mcqs_tech = generate_mcqs(text)\n",
        "\n",
        "# Print the generated MCQs\n",
        "for i, mcq in enumerate(mcqs_tech, start=1):\n",
        "    question_stem, answer_choices, correct_answer = mcq\n",
        "    print(f\"Q{i}: {question_stem}?\")\n",
        "    for j, choice in enumerate(answer_choices, start=1):\n",
        "        print(f\"{chr(64+j)}: {choice}\")\n",
        "    print(f\"Correct Answer: {correct_answer}\\n\")\n",
        "    print(\"==========================================================================================================================================================\")"
      ],
      "metadata": {
        "colab": {
          "base_uri": "https://localhost:8080/"
        },
        "id": "BZmPXPkU2pYS",
        "outputId": "b3931407-f11e-41b3-e1d3-045588127db7"
      },
      "execution_count": 25,
      "outputs": [
        {
          "output_type": "stream",
          "name": "stdout",
          "text": [
            "Q1: The Nile River fed Egyptian __________ for hundreds of years.?\n",
            "A: years\n",
            "B: years\n",
            "C: civilization\n",
            "D: years\n",
            "Correct Answer: C\n",
            "\n",
            "==========================================================================================================================================================\n",
            "Q2: This __________ was fertile, which means it was good for growing crops.?\n",
            "A: soil\n",
            "B: crops\n",
            "C: crops\n",
            "D: crops\n",
            "Correct Answer: A\n",
            "\n",
            "==========================================================================================================================================================\n",
            "Q3: The __________ deposited rich soil along the Nile’s shores.?\n",
            "A: soil\n",
            "B: shores\n",
            "C: shores\n",
            "D: floods\n",
            "Correct Answer: D\n",
            "\n",
            "==========================================================================================================================================================\n",
            "Q4: The __________ is called the upper Nile in the south and the lower Nile in the north.?\n",
            "A: north\n",
            "B: river\n",
            "C: south\n",
            "D: north\n",
            "Correct Answer: B\n",
            "\n",
            "==========================================================================================================================================================\n"
          ]
        }
      ]
    },
    {
      "cell_type": "code",
      "source": [
        "def generate_mcqs(text, num_questions=5):\n",
        "    # text = clean_text(text)\n",
        "    if text is None:\n",
        "        return []\n",
        "\n",
        "    # Process the text with spaCy\n",
        "    doc = nlp(text)\n",
        "\n",
        "    # Extract sentences from the text\n",
        "    sentences = [sent.text for sent in doc.sents]\n",
        "\n",
        "    # Ensure that the number of questions does not exceed the number of sentences\n",
        "    num_questions = min(num_questions, len(sentences))\n",
        "\n",
        "    # Randomly select sentences to form questions\n",
        "    selected_sentences = random.sample(sentences, num_questions)\n",
        "\n",
        "    # Initialize list to store generated MCQs\n",
        "    mcqs = []\n",
        "\n",
        "    # Generate MCQs for each selected sentence\n",
        "    for sentence in selected_sentences:\n",
        "        # Process the sentence with spaCy\n",
        "        sent_doc = nlp(sentence)\n",
        "\n",
        "        # Extract entities (nouns) from the sentence\n",
        "        nouns = [token.text for token in sent_doc if token.pos_ == \"NOUN\"]\n",
        "\n",
        "        # Ensure there are enough nouns to generate MCQs\n",
        "        if len(nouns) < 2:\n",
        "            continue\n",
        "\n",
        "        # Count the occurrence of each noun\n",
        "        noun_counts = Counter(nouns)\n",
        "\n",
        "        # Select the most common noun as the subject of the question\n",
        "        if noun_counts:\n",
        "            subject = noun_counts.most_common(1)[0][0]\n",
        "\n",
        "            # Generate the question stem\n",
        "            question_stem = sentence.replace(subject, \"______\")\n",
        "\n",
        "            # Generate answer choices\n",
        "            answer_choices = [subject]\n",
        "\n",
        "            # Add some random words from the text as distractors\n",
        "            distractors = list(set(nouns) - {subject})\n",
        "\n",
        "            # Ensure there are at least three distractors\n",
        "            while len(distractors) < 3:\n",
        "                distractors.append(\"[Distractor]\")  # Placeholder for missing distractors\n",
        "\n",
        "            random.shuffle(distractors)\n",
        "            for distractor in distractors[:3]:\n",
        "                answer_choices.append(distractor)\n",
        "\n",
        "            # Shuffle the answer choices\n",
        "            random.shuffle(answer_choices)\n",
        "\n",
        "            # Append the generated MCQ to the list\n",
        "            correct_answer = chr(64 + answer_choices.index(subject) + 1)  # Convert index to letter\n",
        "            mcqs.append((question_stem, answer_choices, correct_answer))\n",
        "\n",
        "    return mcqs"
      ],
      "metadata": {
        "id": "Uj09LU7BKR9p"
      },
      "execution_count": 26,
      "outputs": []
    },
    {
      "cell_type": "code",
      "source": [
        "tech_text = \"\"\"\n",
        "The universe is vast and filled with mysteries that continue to captivate scientists and astronomers alike. From the depths of space to the farthest reaches of distant galaxies, the cosmos holds countless wonders waiting to be explored.\n",
        "\n",
        "One of the fundamental concepts in astrophysics is the Big Bang theory, which posits that the universe originated from a singular, infinitely dense point nearly 13.8 billion years ago. Over time, the universe expanded and cooled, giving rise to the formation of galaxies, stars, and planets.\n",
        "\n",
        "Galaxies are immense systems containing billions or even trillions of stars, as well as various types of interstellar matter such as gas, dust, and dark matter. The Milky Way, our home galaxy, is a spiral galaxy containing hundreds of billions of stars, including our own Sun.\n",
        "\n",
        "Stars are the celestial objects that shine brightly in the night sky, fueled by nuclear fusion reactions occurring in their cores. They come in a variety of sizes, colors, and temperatures, with some stars being much larger and hotter than others. The life cycle of a star depends on its mass, with massive stars undergoing supernova explosions at the end of their lives, while smaller stars like our Sun eventually evolve into white dwarfs.\n",
        "\n",
        "Planets orbit stars and come in different types, including terrestrial planets like Earth, gas giants like Jupiter, and icy worlds like Neptune. In our solar system, eight planets revolve around the Sun, each with its own unique characteristics and features.\n",
        "\n",
        "Space exploration has allowed humanity to venture beyond Earth and explore the cosmos firsthand. Missions to the Moon, Mars, and beyond have expanded our understanding of the universe and laid the groundwork for future exploration and colonization of other worlds.\n",
        "\n",
        "The search for extraterrestrial life is a central focus of space exploration, driven by the desire to uncover whether life exists beyond Earth. Scientists study the conditions on other planets and moons in our solar system, as well as exoplanets orbiting distant stars, in the hope of finding signs of life elsewhere in the universe.\n",
        "\n",
        "The study of black holes, mysterious regions of spacetime where gravity is so strong that nothing, not even light, can escape, is another area of active research in astrophysics. Black holes come in various sizes, from stellar-mass black holes formed from the collapse of massive stars to supermassive black holes that lurk at the centers of galaxies.\n",
        "\n",
        "Cosmology, the scientific study of the origin, evolution, and eventual fate of the universe, seeks to answer some of the most profound questions about our existence. By analyzing cosmic microwave background radiation, the distribution of galaxies, and the structure of the universe on the largest scales, cosmologists aim to unravel the mysteries of the cosmos and our place within it.\n",
        "\n",
        "\"\"\"\n",
        "mcqs = generate_mcqs(tech_text, num_questions=10)  # Pass the selected number of questions\n",
        "# Ensure each MCQ is formatted correctly as (question_stem, answer_choices, correct_answer)\n",
        "mcqs_with_index = [(i + 1, mcq) for i, mcq in enumerate(mcqs)]\n",
        "\n",
        "for question in mcqs_with_index:\n",
        "    print(\"Question\", question[0], \":\", question[1][0])\n",
        "    print(\"Options:\")\n",
        "    options = question[1][1]\n",
        "    for i, option in enumerate(options):\n",
        "        print(f\"{chr(97 + i)}) {option}\")\n",
        "    print(\"Correct Answer:\", question[1][2])\n",
        "    print(\"\\n\")"
      ],
      "metadata": {
        "colab": {
          "base_uri": "https://localhost:8080/"
        },
        "id": "K6ljY7kUKVCP",
        "outputId": "47b200ad-5afb-41b6-f0df-5d061ea2e1a9"
      },
      "execution_count": 27,
      "outputs": [
        {
          "output_type": "stream",
          "name": "stdout",
          "text": [
            "Question 1 : The life cycle of a star depends on its mass, with massive ______ undergoing supernova explosions at the end of their lives, while smaller ______ like our Sun eventually evolve into white dwarfs.\n",
            "\n",
            "\n",
            "Options:\n",
            "a) star\n",
            "b) lives\n",
            "c) supernova\n",
            "d) stars\n",
            "Correct Answer: D\n",
            "\n",
            "\n",
            "Question 2 : ______ orbit stars and come in different types, including terrestrial planets like Earth, gas giants like Jupiter, and icy worlds like Neptune.\n",
            "Options:\n",
            "a) Planets\n",
            "b) orbit\n",
            "c) gas\n",
            "d) worlds\n",
            "Correct Answer: A\n",
            "\n",
            "\n",
            "Question 3 : The search for extraterrestrial ______ is a central focus of space exploration, driven by the desire to uncover whether ______ exists beyond Earth.\n",
            "Options:\n",
            "a) exploration\n",
            "b) space\n",
            "c) desire\n",
            "d) life\n",
            "Correct Answer: D\n",
            "\n",
            "\n",
            "Question 4 : From the ______ of space to the farthest reaches of distant galaxies, the cosmos holds countless wonders waiting to be explored.\n",
            "\n",
            "\n",
            "Options:\n",
            "a) space\n",
            "b) reaches\n",
            "c) depths\n",
            "d) wonders\n",
            "Correct Answer: C\n",
            "\n",
            "\n",
            "Question 5 : Cosmology, the scientific ______ of the origin, evolution, and eventual fate of the universe, seeks to answer some of the most profound questions about our existence.\n",
            "Options:\n",
            "a) study\n",
            "b) universe\n",
            "c) existence\n",
            "d) origin\n",
            "Correct Answer: A\n",
            "\n",
            "\n",
            "Question 6 : They come in a ______ of sizes, colors, and temperatures, with some stars being much larger and hotter than others.\n",
            "Options:\n",
            "a) colors\n",
            "b) others\n",
            "c) variety\n",
            "d) stars\n",
            "Correct Answer: C\n",
            "\n",
            "\n",
            "Question 7 : The ______ of black holes, mysterious regions of spacetime where gravity is so strong that nothing, not even light, can escape, is another area of active research in astrophysics.\n",
            "Options:\n",
            "a) astrophysics\n",
            "b) holes\n",
            "c) study\n",
            "d) gravity\n",
            "Correct Answer: C\n",
            "\n",
            "\n",
            "Question 8 : ______ exploration has allowed humanity to venture beyond Earth and explore the cosmos firsthand.\n",
            "Options:\n",
            "a) Space\n",
            "b) [Distractor]\n",
            "c) humanity\n",
            "d) exploration\n",
            "Correct Answer: A\n",
            "\n",
            "\n",
            "Question 9 : ______ study the conditions on other planets and moons in our solar system, as well as exoplanets orbiting distant stars, in the hope of finding signs of life elsewhere in the universe.\n",
            "\n",
            "\n",
            "Options:\n",
            "a) Scientists\n",
            "b) signs\n",
            "c) planets\n",
            "d) hope\n",
            "Correct Answer: A\n",
            "\n",
            "\n",
            "Question 10 : ______ to the Moon, Mars, and beyond have expanded our understanding of the universe and laid the groundwork for future exploration and colonization of other worlds.\n",
            "\n",
            "\n",
            "Options:\n",
            "a) Missions\n",
            "b) groundwork\n",
            "c) worlds\n",
            "d) understanding\n",
            "Correct Answer: A\n",
            "\n",
            "\n"
          ]
        }
      ]
    }
  ]
}